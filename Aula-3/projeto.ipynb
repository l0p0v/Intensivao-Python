{
 "cells": [
  {
   "cell_type": "markdown",
   "metadata": {},
   "source": [
    "# Automação Web e Busca de Informações com Python\n",
    "\n",
    "#### Desafio: \n",
    "\n",
    "Trabalhamos em uma importadora e o preço dos nossos produtos é vinculado a cotação de:\n",
    "- Dólar\n",
    "- Euro\n",
    "- Ouro\n",
    "\n",
    "Precisamos pegar na internet, de forma automática, a cotação desses 3 itens e saber quanto devemos cobrar pelos nossos produtos, considerando uma margem de contribuição que temos na nossa base de dados.\n",
    "\n",
    "Base de Dados: https://drive.google.com/drive/folders/1KmAdo593nD8J9QBaZxPOG1yxHZua4Rtv?usp=sharing\n",
    "\n",
    "Para isso, vamos criar uma automação web:\n",
    "\n",
    "- Usaremos o selenium\n",
    "- Importante: baixar o webdriver"
   ]
  },
  {
   "cell_type": "code",
   "execution_count": 8,
   "metadata": {},
   "outputs": [],
   "source": [
    "from selenium import webdriver  # permite criar o navegador\n",
    "from selenium.webdriver.common.keys import Keys  # permite escrever no navegador\n",
    "from selenium.webdriver.common.by import By  # permite selecionar items no navegador\n",
    "import pandas as pd"
   ]
  },
  {
   "cell_type": "code",
   "execution_count": 9,
   "metadata": {},
   "outputs": [
    {
     "name": "stdout",
     "output_type": "stream",
     "text": [
      "Dólar vale: R$5.20\n",
      "Euro vale: R$5.13\n",
      "Ouro vale: R$287.16\n"
     ]
    }
   ],
   "source": [
    "# opções do navegador\n",
    "options = webdriver.ChromeOptions()\n",
    "# options.add_argument(\"--headless\")  # rodar em segundo plano\n",
    "\n",
    "# abrir o navegador\n",
    "navegador = webdriver.Chrome(options=options)\n",
    "\n",
    "# Passo 1: Pegar a cotação do dólar\n",
    "# entrar no Google\n",
    "navegador.get('https://www.google.com/')\n",
    "\n",
    "# pesquisar no Google por \"cotação dólar\"\n",
    "navegador.find_element(By.XPATH, '/html/body/div[1]/div[3]/form/div[1]/div[1]/div[1]/div/div[2]/input').send_keys('cotação do dólar')\n",
    "navegador.find_element(By.XPATH, '/html/body/div[1]/div[3]/form/div[1]/div[1]/div[1]/div/div[2]/input').send_keys(Keys.ENTER)\n",
    "\n",
    "# pegar a contação que tá no Google\n",
    "cotacao_dolar = float(navegador.find_element(By.XPATH, '//*[@id=\"knowledge-currency__updatable-data-column\"]/div[1]/div[2]/span[1]').get_attribute('data-value'))\n",
    "print(f'Dólar vale: R${cotacao_dolar:.2f}')\n",
    "\n",
    "# Passo 2: Pegar a cotação do euro\n",
    "# entrar no Google\n",
    "navegador.get('https://www.google.com/')\n",
    "\n",
    "# pesquisar no Google por \"cotação euro\"\n",
    "navegador.find_element('xpath', '/html/body/div[1]/div[3]/form/div[1]/div[1]/div[1]/div/div[2]/input').send_keys('cotação do euro')\n",
    "navegador.find_element('xpath', '/html/body/div[1]/div[3]/form/div[1]/div[1]/div[1]/div/div[2]/input').send_keys(Keys.ENTER)\n",
    "\n",
    "# pegar a contação que tá no Google\n",
    "cotacao_euro = float(navegador.find_element('xpath', '//*[@id=\"knowledge-currency__updatable-data-column\"]/div[1]/div[2]/span[1]').get_attribute('data-value'))\n",
    "print(f'Euro vale: R${cotacao_euro:.2f}')\n",
    "\n",
    "# Passo 3: Pegar a cotação do ouro\n",
    "navegador.get('https://www.melhorcambio.com/ouro-hoje')\n",
    "\n",
    "# pegar a cotação que tá no site\n",
    "cotacao_ouro = navegador.find_element('xpath', '//*[@id=\"comercial\"]').get_attribute('value')\n",
    "cotacao_ouro = float(cotacao_ouro.replace(',', '.'))\n",
    "print(f'Ouro vale: R${cotacao_ouro:.2f}')\n",
    "\n",
    "navegador.quit()"
   ]
  },
  {
   "cell_type": "markdown",
   "metadata": {},
   "source": [
    "### Agora vamos atualiza a nossa base de preços com as novas cotações"
   ]
  },
  {
   "cell_type": "markdown",
   "metadata": {},
   "source": [
    "- Importando a base de dados"
   ]
  },
  {
   "cell_type": "code",
   "execution_count": 10,
   "metadata": {
    "scrolled": true
   },
   "outputs": [],
   "source": [
    "# Passo 4: Atualizar a base de dados (atualizando o preço de compra e o de venda)\n",
    "df = pd.read_excel('Produtos.xlsx')\n",
    "# display(df)"
   ]
  },
  {
   "cell_type": "markdown",
   "metadata": {},
   "source": [
    "- Atualizando os preços e o cálculo do Preço Final"
   ]
  },
  {
   "cell_type": "code",
   "execution_count": 11,
   "metadata": {},
   "outputs": [],
   "source": [
    "# atualizar a coluna de cotação\n",
    "df.loc[df['Moeda'] == 'Dólar', 'Cotação'] = cotacao_dolar\n",
    "df.loc[df['Moeda'] == 'Euro', 'Cotação'] = cotacao_euro\n",
    "df.loc[df['Moeda'] == 'Ouro', 'Cotação'] = cotacao_ouro\n",
    "\n",
    "# atualizar a coluna de preço de compra\n",
    "df.loc[df['Moeda'] == 'Dólar', 'Preço de Compra'] = df['Preço Original'] * df['Cotação']\n",
    "df.loc[df['Moeda'] == 'Euro', 'Preço de Compra'] = df['Preço Original'] * df['Cotação']\n",
    "df.loc[df['Moeda'] == 'Ouro', 'Preço de Compra'] = df['Preço Original'] * df['Cotação']\n",
    "\n",
    "# atualizar a coluna de preço de venda\n",
    "df['Preço de Venda'] = df['Preço de Compra'] * df['Margem']"
   ]
  },
  {
   "cell_type": "markdown",
   "metadata": {},
   "source": [
    "### Formatando valores no dataframe"
   ]
  },
  {
   "cell_type": "code",
   "execution_count": 12,
   "metadata": {},
   "outputs": [],
   "source": [
    "df['Cotação'] = round(df['Cotação'], 2)\n",
    "df['Preço de Compra'] = round(df['Preço de Compra'], 2)\n",
    "df['Preço de Venda'] = round(df['Preço de Venda'], 2)"
   ]
  },
  {
   "cell_type": "code",
   "execution_count": 13,
   "metadata": {},
   "outputs": [],
   "source": [
    "# display(df)"
   ]
  },
  {
   "cell_type": "markdown",
   "metadata": {},
   "source": [
    "### Agora vamos exportar a nova base de preços atualizada"
   ]
  },
  {
   "cell_type": "code",
   "execution_count": 14,
   "metadata": {},
   "outputs": [],
   "source": [
    "# Passo 5: Exportar a base de preços atualizada\n",
    "df.to_excel('Produtos Novo.xlsx', index=False)"
   ]
  }
 ],
 "metadata": {
  "kernelspec": {
   "display_name": "Python 3 (ipykernel)",
   "language": "python",
   "name": "python3"
  },
  "language_info": {
   "codemirror_mode": {
    "name": "ipython",
    "version": 3
   },
   "file_extension": ".py",
   "mimetype": "text/x-python",
   "name": "python",
   "nbconvert_exporter": "python",
   "pygments_lexer": "ipython3",
   "version": "3.9.12"
  },
  "vscode": {
   "interpreter": {
    "hash": "cd2599c6b68dedd60ea320e66b986a2dd5fb60e916295c3598e8006f9d0aa287"
   }
  }
 },
 "nbformat": 4,
 "nbformat_minor": 4
}
