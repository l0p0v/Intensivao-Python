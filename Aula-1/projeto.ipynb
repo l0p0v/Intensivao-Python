{
 "cells": [
  {
   "cell_type": "markdown",
   "metadata": {},
   "source": [
    "# Automação de Sistemas e Processos com Python\n",
    "\n",
    "### Desafio:\n",
    "\n",
    "Diariamente, o nosso sistema atualiza as vendas do dia anterior.\n",
    "O seu trabalho diário, como analista, é enviar um e-mail para a diretoria, assim que começar a trabalhar, com o faturamento e a quantidade de produtos vendidos no dia anterior\n",
    "\n",
    "E-mail da diretoria: seugmail+diretoria@gmail.com<br>\n",
    "Local onde o sistema disponibiliza as vendas do dia anterior: https://drive.google.com/drive/folders/149xknr9JvrlEnhNWO49zPcw0PW5icxga?usp=sharing\n",
    "\n",
    "Para resolver isso, vamos usar o pyautogui, uma biblioteca de automação de comandos do mouse e do teclado"
   ]
  },
  {
   "cell_type": "code",
   "execution_count": 2,
   "metadata": {},
   "outputs": [],
   "source": [
    "import pyautogui\n",
    "import pyperclip\n",
    "from time import sleep\n",
    "from datetime import datetime\n",
    "import pandas as pd\n",
    "from os import remove"
   ]
  },
  {
   "cell_type": "code",
   "execution_count": 12,
   "metadata": {},
   "outputs": [],
   "source": [
    "pyautogui.PAUSE = 2\n",
    "FECHAR = True"
   ]
  },
  {
   "cell_type": "code",
   "execution_count": 13,
   "metadata": {},
   "outputs": [],
   "source": [
    "# Passo 1: Entrar no sistema da empresa (no nosso caso é o link do drive)\n",
    "\n",
    "# abrir navegador\n",
    "sleep(0.5)\n",
    "pyautogui.press('win')\n",
    "pyautogui.write('opera')\n",
    "pyautogui.press('enter')\n",
    "while not pyautogui.locateOnScreen('images/navegador.png', confidence=0.8):\n",
    "    pyautogui.hotkey('ctrl', 'w')\n",
    "    sleep(1)\n",
    "\n",
    "# entrar no site\n",
    "pyperclip.copy(\n",
    "    'https://drive.google.com/drive/folders/149xknr9JvrlEnhNWO49zPcw0PW5icxga?usp=sharing')\n",
    "pyautogui.hotkey('ctrl', 'v')\n",
    "pyautogui.press('enter')\n",
    "while not pyautogui.locateOnScreen('images/drive.png', confidence=0.9):\n",
    "    sleep(1)\n",
    "\n",
    "# Passo 2: Navegar no sistema e encontrar a base de vendas (entrar na pasta exportar)\n",
    "pyautogui.click(x=360, y=255, clicks=2)\n",
    "while not pyautogui.locateOnScreen('images/vendas.png', confidence=0.9):\n",
    "    sleep(1)\n",
    "\n",
    "# Passo 3: Fazer o download da base de vendas\n",
    "pyautogui.click(x=364, y=258)\n",
    "pyautogui.click(x=1156, y=160)\n",
    "while not pyautogui.locateOnScreen('images/fazer_download.png', confidence=0.9):\n",
    "    sleep(1)\n",
    "pyautogui.click(x=958, y=562)\n",
    "while not pyautogui.locateOnScreen('images/download.png', confidence=0.9):\n",
    "    sleep(1)"
   ]
  },
  {
   "cell_type": "markdown",
   "metadata": {},
   "source": [
    "### Vamos agora ler o arquivo baixado para pegar os indicadores\n",
    "\n",
    "- Faturamento\n",
    "- Quantidade de Produtos"
   ]
  },
  {
   "cell_type": "code",
   "execution_count": 3,
   "metadata": {},
   "outputs": [
    {
     "data": {
      "text/html": [
       "<div>\n",
       "<style scoped>\n",
       "    .dataframe tbody tr th:only-of-type {\n",
       "        vertical-align: middle;\n",
       "    }\n",
       "\n",
       "    .dataframe tbody tr th {\n",
       "        vertical-align: top;\n",
       "    }\n",
       "\n",
       "    .dataframe thead th {\n",
       "        text-align: right;\n",
       "    }\n",
       "</style>\n",
       "<table border=\"1\" class=\"dataframe\">\n",
       "  <thead>\n",
       "    <tr style=\"text-align: right;\">\n",
       "      <th></th>\n",
       "      <th>Código Venda</th>\n",
       "      <th>Data</th>\n",
       "      <th>ID Loja</th>\n",
       "      <th>Produto</th>\n",
       "      <th>Quantidade</th>\n",
       "      <th>Valor Unitário</th>\n",
       "      <th>Valor Final</th>\n",
       "    </tr>\n",
       "  </thead>\n",
       "  <tbody>\n",
       "    <tr>\n",
       "      <th>0</th>\n",
       "      <td>65014</td>\n",
       "      <td>2019-12-01</td>\n",
       "      <td>Shopping Morumbi</td>\n",
       "      <td>Sunga Listrado</td>\n",
       "      <td>5</td>\n",
       "      <td>114</td>\n",
       "      <td>570</td>\n",
       "    </tr>\n",
       "    <tr>\n",
       "      <th>1</th>\n",
       "      <td>65014</td>\n",
       "      <td>2019-12-01</td>\n",
       "      <td>Shopping Morumbi</td>\n",
       "      <td>Casaco Listrado</td>\n",
       "      <td>1</td>\n",
       "      <td>269</td>\n",
       "      <td>269</td>\n",
       "    </tr>\n",
       "    <tr>\n",
       "      <th>2</th>\n",
       "      <td>65016</td>\n",
       "      <td>2019-12-01</td>\n",
       "      <td>Iguatemi Campinas</td>\n",
       "      <td>Sapato Listrado</td>\n",
       "      <td>2</td>\n",
       "      <td>363</td>\n",
       "      <td>726</td>\n",
       "    </tr>\n",
       "    <tr>\n",
       "      <th>3</th>\n",
       "      <td>65016</td>\n",
       "      <td>2019-12-01</td>\n",
       "      <td>Iguatemi Campinas</td>\n",
       "      <td>Casaco</td>\n",
       "      <td>1</td>\n",
       "      <td>250</td>\n",
       "      <td>250</td>\n",
       "    </tr>\n",
       "    <tr>\n",
       "      <th>4</th>\n",
       "      <td>65017</td>\n",
       "      <td>2019-12-01</td>\n",
       "      <td>Shopping SP Market</td>\n",
       "      <td>Gorro Liso</td>\n",
       "      <td>3</td>\n",
       "      <td>92</td>\n",
       "      <td>276</td>\n",
       "    </tr>\n",
       "    <tr>\n",
       "      <th>...</th>\n",
       "      <td>...</td>\n",
       "      <td>...</td>\n",
       "      <td>...</td>\n",
       "      <td>...</td>\n",
       "      <td>...</td>\n",
       "      <td>...</td>\n",
       "      <td>...</td>\n",
       "    </tr>\n",
       "    <tr>\n",
       "      <th>7084</th>\n",
       "      <td>69996</td>\n",
       "      <td>2019-12-26</td>\n",
       "      <td>Center Shopping Uberlândia</td>\n",
       "      <td>Short Listrado</td>\n",
       "      <td>2</td>\n",
       "      <td>102</td>\n",
       "      <td>204</td>\n",
       "    </tr>\n",
       "    <tr>\n",
       "      <th>7085</th>\n",
       "      <td>69996</td>\n",
       "      <td>2019-12-26</td>\n",
       "      <td>Center Shopping Uberlândia</td>\n",
       "      <td>Mochila</td>\n",
       "      <td>4</td>\n",
       "      <td>270</td>\n",
       "      <td>1080</td>\n",
       "    </tr>\n",
       "    <tr>\n",
       "      <th>7086</th>\n",
       "      <td>69996</td>\n",
       "      <td>2019-12-26</td>\n",
       "      <td>Center Shopping Uberlândia</td>\n",
       "      <td>Pulseira Estampa</td>\n",
       "      <td>1</td>\n",
       "      <td>87</td>\n",
       "      <td>87</td>\n",
       "    </tr>\n",
       "    <tr>\n",
       "      <th>7087</th>\n",
       "      <td>69997</td>\n",
       "      <td>2019-12-26</td>\n",
       "      <td>Ribeirão Shopping</td>\n",
       "      <td>Camisa Listrado</td>\n",
       "      <td>1</td>\n",
       "      <td>108</td>\n",
       "      <td>108</td>\n",
       "    </tr>\n",
       "    <tr>\n",
       "      <th>7088</th>\n",
       "      <td>69997</td>\n",
       "      <td>2019-12-26</td>\n",
       "      <td>Ribeirão Shopping</td>\n",
       "      <td>Short Linho</td>\n",
       "      <td>2</td>\n",
       "      <td>133</td>\n",
       "      <td>266</td>\n",
       "    </tr>\n",
       "  </tbody>\n",
       "</table>\n",
       "<p>7089 rows × 7 columns</p>\n",
       "</div>"
      ],
      "text/plain": [
       "      Código Venda       Data                     ID Loja           Produto  \\\n",
       "0            65014 2019-12-01            Shopping Morumbi    Sunga Listrado   \n",
       "1            65014 2019-12-01            Shopping Morumbi   Casaco Listrado   \n",
       "2            65016 2019-12-01           Iguatemi Campinas   Sapato Listrado   \n",
       "3            65016 2019-12-01           Iguatemi Campinas            Casaco   \n",
       "4            65017 2019-12-01          Shopping SP Market        Gorro Liso   \n",
       "...            ...        ...                         ...               ...   \n",
       "7084         69996 2019-12-26  Center Shopping Uberlândia    Short Listrado   \n",
       "7085         69996 2019-12-26  Center Shopping Uberlândia           Mochila   \n",
       "7086         69996 2019-12-26  Center Shopping Uberlândia  Pulseira Estampa   \n",
       "7087         69997 2019-12-26           Ribeirão Shopping   Camisa Listrado   \n",
       "7088         69997 2019-12-26           Ribeirão Shopping       Short Linho   \n",
       "\n",
       "      Quantidade  Valor Unitário  Valor Final  \n",
       "0              5             114          570  \n",
       "1              1             269          269  \n",
       "2              2             363          726  \n",
       "3              1             250          250  \n",
       "4              3              92          276  \n",
       "...          ...             ...          ...  \n",
       "7084           2             102          204  \n",
       "7085           4             270         1080  \n",
       "7086           1              87           87  \n",
       "7087           1             108          108  \n",
       "7088           2             133          266  \n",
       "\n",
       "[7089 rows x 7 columns]"
      ]
     },
     "metadata": {},
     "output_type": "display_data"
    }
   ],
   "source": [
    "# Passo 4: Importar a base de vendas para o Python\n",
    "df = pd.read_excel(r'C:\\Users\\f4dra\\Downloads\\Vendas - Dez.xlsx')\n",
    "display(df)"
   ]
  },
  {
   "cell_type": "code",
   "execution_count": 15,
   "metadata": {},
   "outputs": [],
   "source": [
    "# Passo 5: Calcular os indicadores\n",
    "faturamento = df['Valor Final'].sum()\n",
    "media_lucro = df['Valor Final'].mean()\n",
    "qtd_produtos = df['Quantidade'].sum()\n",
    "list_lojas = list(set(df['ID Loja']))\n",
    "list_produtos = list(set(df['Produto']))\n",
    "melhor = df.max()\n",
    "pior = df.min()\n",
    "produtos = [(df['Produto'][i], list(df['Produto']).count(list_produtos[i]))\n",
    "            for i in range(len(list_produtos))]\n",
    "lojas = [(df['ID Loja'][i], list(df['ID Loja']).count(list_lojas[i]))\n",
    "         for i in range(len(list_lojas))]\n",
    "mais_vendido = max(produtos, key=lambda p: p[1])\n",
    "menos_vendido = min(produtos, key=lambda p: [1])\n",
    "melhor_loja = max(lojas, key=lambda loja: loja[1])\n",
    "pior_loja = min(lojas, key=lambda loja: loja[1])\n",
    "hora_atual = datetime.now().hour"
   ]
  },
  {
   "cell_type": "code",
   "execution_count": 16,
   "metadata": {},
   "outputs": [],
   "source": [
    "if hora_atual < 12:\n",
    "    cumprimento = 'Bom dia'\n",
    "elif hora_atual < 18:\n",
    "    cumprimento = 'Boa tarde'\n",
    "else:\n",
    "    cumprimento = 'Boa noite'"
   ]
  },
  {
   "cell_type": "markdown",
   "metadata": {},
   "source": [
    "### Vamos agora enviar um e-mail pelo gmail"
   ]
  },
  {
   "cell_type": "code",
   "execution_count": 17,
   "metadata": {},
   "outputs": [],
   "source": [
    "# Passo 5: Entrar no email\n",
    "pyautogui.hotkey('ctrl', 'w')\n",
    "pyperclip.copy('https://mail.google.com/mail/u/0/')\n",
    "pyautogui.hotkey('ctrl', 'v')\n",
    "pyautogui.press('enter')\n",
    "while not pyautogui.locateOnScreen('images/escrever.png', confidence=0.9):\n",
    "    sleep(1)\n",
    "\n",
    "# Passo 6: Enviar pro email o resultado\n",
    "pyautogui.click(x=117, y=171)\n",
    "while not pyautogui.locateOnScreen('images/mensagem.png', confidence=0.9):\n",
    "    sleep(1)\n",
    "\n",
    "pyautogui.write('pythonimpressionador+diretoria@gmail.com')\n",
    "pyautogui.press('tab')  # seleciona o email\n",
    "\n",
    "pyautogui.press('tab')  # pula para o campo de assunto\n",
    "pyperclip.copy('Relatório de Vendas')\n",
    "pyautogui.hotkey('ctrl', 'v')  # escreve o assunto\n",
    "pyautogui.press('tab')  # pula para o corpo do email\n",
    "\n",
    "texto = f'''Prezados, {cumprimento}\n",
    "\n",
    "Segue relatório de vendas.\n",
    "Faturamento total: R${faturamento:,.2f}\n",
    "Média de faturamento por venda: R${media_lucro:,.2f}\n",
    "Quantidade de produtos vendidos: {qtd_produtos:,}\n",
    "Quantidade de lojas no momento: {len(list_lojas)}\n",
    "Melhor venda:\n",
    "    Data: {melhor['Data'].day}/{melhor['Data'].month}/{melhor['Data'].year}\n",
    "    ID Loja: {melhor['ID Loja']}\n",
    "    Produto: {melhor['Produto']}\n",
    "    Quantidade: {melhor['Quantidade']:,}\n",
    "    Valor Unitário: {melhor['Valor Unitário']:,.2f}\n",
    "    Valor Final: R${melhor['Valor Final']:,.2f}\n",
    "Pior venda:\n",
    "    Data: {melhor['Data'].day}/{melhor['Data'].month}/{melhor['Data'].year}\n",
    "    ID Loja: {pior['ID Loja']}\n",
    "    Produto: {pior['Produto']}\n",
    "    Quantidade: {pior['Quantidade']:,}\n",
    "    Valor Unitário: {pior['Valor Unitário']:,.2f}\n",
    "    Valor Final: R${pior['Valor Final']:,.2f}\n",
    "Mais vendido:\n",
    "    Nome: {mais_vendido[0]}\n",
    "    Quantidade: {mais_vendido[1]}\n",
    "Menos vendido:\n",
    "    Nome: {menos_vendido[0]}\n",
    "    Quantidade: {menos_vendido[1]}\n",
    "Melhor loja:\n",
    "    ID Loja: {melhor_loja[0]}\n",
    "    Produtos vendidos: {melhor_loja[1]}\n",
    "Pior loja:\n",
    "    ID Loja: {pior_loja[0]}\n",
    "    Produtos vendidos: {pior_loja[1]}\n",
    "\n",
    "Qualquer dúvida estou à disposição.\n",
    "Att.,\n",
    "Felippe do Python'''\n",
    "\n",
    "pyperclip.copy(texto)\n",
    "pyautogui.hotkey('ctrl', 'v')\n",
    "\n",
    "# anexar um arquivo\n",
    "arquivo = r'C:\\Users\\f4dra\\Downloads\\Vendas - Dez.xlsx'\n",
    "pyautogui.click(x=952, y=702)\n",
    "pyautogui.press('enter')\n",
    "while not pyautogui.locateOnScreen('images/nome.png', confidence=0.9):\n",
    "    sleep(1)\n",
    "pyperclip.copy(arquivo)\n",
    "pyautogui.hotkey('ctrl', 'v')\n",
    "pyautogui.press('enter')\n",
    "pyautogui.click(x=1093, y=464)\n",
    "while not pyautogui.locateOnScreen('images/arquivo_completo.png', confidence=0.9):\n",
    "    sleep(1)\n",
    "\n",
    "# enviar email\n",
    "pyautogui.hotkey('ctrl', 'enter')"
   ]
  },
  {
   "cell_type": "code",
   "execution_count": 18,
   "metadata": {},
   "outputs": [],
   "source": [
    "try:\n",
    "    remove(r'C:\\Users\\f4dra\\Downloads\\Vendas - Dez.xlsx')\n",
    "except FileNotFoundError:\n",
    "    print('\\033[31mArquivo não encontrado.\\033[m')"
   ]
  },
  {
   "cell_type": "code",
   "execution_count": 19,
   "metadata": {},
   "outputs": [],
   "source": [
    "if FECHAR:\n",
    "    while not pyautogui.locateOnScreen('images/mensagem_enviada.png', confidence=0.9):\n",
    "        sleep(1)\n",
    "    pyautogui.hotkey('ctrl', 'w')\n",
    "    pyautogui.hotkey('alt', 'f4')"
   ]
  },
  {
   "cell_type": "code",
   "execution_count": 21,
   "metadata": {},
   "outputs": [
    {
     "name": "stdout",
     "output_type": "stream",
     "text": [
      "\u001b[32mPROGRAMA FINALIZADO COM SUCESSO!\u001b[m\n"
     ]
    }
   ],
   "source": [
    "print('\\033[32mPROGRAMA FINALIZADO COM SUCESSO!\\033[m')"
   ]
  },
  {
   "cell_type": "markdown",
   "metadata": {},
   "source": [
    "#### E se eu quisesse anexar arquivos?"
   ]
  },
  {
   "cell_type": "markdown",
   "metadata": {},
   "source": [
    "arquivo = r'C:\\Users\\f4dra\\Downloads\\Vendas - Dez.xlsx'\n",
    "pyautogui.click(x=952, y=702)\n",
    "pyautogui.press('enter')\n",
    "sleep(2)\n",
    "pyperclip.copy(arquivo)\n",
    "pyautogui.hotkey('ctrl', 'v')\n",
    "pyautogui.press('enter')\n",
    "sleep(3)"
   ]
  },
  {
   "cell_type": "markdown",
   "metadata": {},
   "source": [
    "#### E se ao invés de esperar alguns segundos eu quisesse reconhecer uma imagem na tela?"
   ]
  },
  {
   "cell_type": "markdown",
   "metadata": {},
   "source": [
    "sleep(3)\n",
    "\n",
    "#### entrar no site\n",
    "pyperclip.copy('https://drive.google.com/drive/folders/149xknr9JvrlEnhNWO49zPcw0PW5icxga?usp=sharing')\n",
    "pyautogui.hotkey('ctrl', 'v')\n",
    "pyautogui.press('enter')\n",
    "\n",
    "while not pyautogui.locateOnScreen('images/drive.png', confidence=0.9): sleep(1)\n",
    "\n",
    "#### clicar na pasta\n",
    "pyautogui.click(x=360, y=255, clicks=2)"
   ]
  },
  {
   "cell_type": "markdown",
   "metadata": {},
   "source": [
    "#### Use esse código para descobrir qual a posição de um item que queira clicar\n",
    "\n",
    "- Lembre-se: a posição na sua tela difere da posição na minha tela"
   ]
  },
  {
   "cell_type": "markdown",
   "metadata": {},
   "source": []
  },
  {
   "cell_type": "raw",
   "metadata": {},
   "source": [
    "sleep(5)\n",
    "pyautogui.position()"
   ]
  }
 ],
 "metadata": {
  "kernelspec": {
   "display_name": "Python 3 (ipykernel)",
   "language": "python",
   "name": "python3"
  },
  "language_info": {
   "codemirror_mode": {
    "name": "ipython",
    "version": 3
   },
   "file_extension": ".py",
   "mimetype": "text/x-python",
   "name": "python",
   "nbconvert_exporter": "python",
   "pygments_lexer": "ipython3",
   "version": "3.9.12"
  },
  "vscode": {
   "interpreter": {
    "hash": "cd2599c6b68dedd60ea320e66b986a2dd5fb60e916295c3598e8006f9d0aa287"
   }
  }
 },
 "nbformat": 4,
 "nbformat_minor": 4
}
