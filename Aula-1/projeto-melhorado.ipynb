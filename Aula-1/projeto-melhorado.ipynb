{
 "cells": [
  {
   "cell_type": "markdown",
   "metadata": {},
   "source": [
    "# Automação de Sistemas e Processos com Python\n",
    "\n",
    "### Desafio:\n",
    "\n",
    "Diariamente, o nosso sistema atualiza as vendas do dia anterior.\n",
    "O seu trabalho diário, como analista, é enviar um e-mail para a diretoria, assim que começar a trabalhar, com o faturamento e a quantidade de produtos vendidos no dia anterior\n",
    "\n",
    "E-mail da diretoria: seugmail+diretoria@gmail.com<br>\n",
    "Local onde o sistema disponibiliza as vendas do dia anterior: https://drive.google.com/drive/folders/149xknr9JvrlEnhNWO49zPcw0PW5icxga?usp=sharing\n",
    "\n",
    "Para resolver isso, vamos usar o pyautogui, uma biblioteca de automação de comandos do mouse e do teclado"
   ]
  },
  {
   "cell_type": "code",
   "execution_count": 150,
   "metadata": {},
   "outputs": [],
   "source": [
    "from selenium import webdriver\n",
    "from selenium.webdriver.common.keys import Keys\n",
    "from selenium.webdriver.common.by import By\n",
    "from time import sleep\n",
    "from datetime import datetime\n",
    "import pandas as pd\n",
    "import os\n",
    "import pyautogui\n",
    "import pyperclip"
   ]
  },
  {
   "cell_type": "code",
   "execution_count": 151,
   "metadata": {},
   "outputs": [],
   "source": [
    "pyautogui.PAUSE = 1\n",
    "DESTINATARIO = '4drade+diretoria@gmail.com'"
   ]
  },
  {
   "cell_type": "code",
   "execution_count": 152,
   "metadata": {},
   "outputs": [],
   "source": [
    "# Passo 1: Entrar no sistema da empresa (no nosso caso é o link do drive)\n",
    "# abrir navegador\n",
    "navegador = webdriver.Chrome()\n",
    "# abrir drive\n",
    "navegador.get('https://drive.google.com/drive/folders/149xknr9JvrlEnhNWO49zPcw0PW5icxga?usp=sharing')\n",
    "\n",
    "# Passo 2: Navegar no sistema e encontrar a base de vendas (entrar na pasta exportar)\n",
    "# clicar na pasta\n",
    "sleep(2)\n",
    "navegador.find_element(By.XPATH, '//*[@id=\":0\"]/div/c-wiz/div[2]/c-wiz/div[1]/c-wiz/div/c-wiz/div[1]/c-wiz[1]/c-wiz/div/c-wiz/div/div/div/div').click()\n",
    "sleep(4)\n",
    "\n",
    "# Passo 3: Fazer o download da base de vendas\n",
    "# clicar no arquivo\n",
    "navegador.find_element(By.XPATH, '/html/body/div[3]/div/div[3]/div[2]/div[2]/div/c-wiz/div[2]/c-wiz/div[1]/c-wiz/div/c-wiz/div[1]/c-wiz/c-wiz/div/c-wiz/div/div/div/div[2]').click()\n",
    "sleep(5)\n",
    "# baixar o arquivo\n",
    "navegador.find_element(By.XPATH, '/html/body/div[11]/div[4]/div/div[3]/div[2]/div[2]/div[3]/div').click()\n",
    "sleep(5)\n",
    "# fechar navegador\n",
    "navegador.quit()"
   ]
  },
  {
   "cell_type": "markdown",
   "metadata": {},
   "source": [
    "### Vamos agora ler o arquivo baixado para pegar os indicadores\n",
    "\n",
    "- Faturamento\n",
    "- Quantidade de Produtos"
   ]
  },
  {
   "cell_type": "code",
   "execution_count": 153,
   "metadata": {},
   "outputs": [],
   "source": [
    "# Passo 4: Importar a base de vendas para o Python\n",
    "df = pd.read_excel(r'C:\\Users\\f4dra\\Downloads\\Vendas - Dez.xlsx')"
   ]
  },
  {
   "cell_type": "code",
   "execution_count": 154,
   "metadata": {},
   "outputs": [],
   "source": [
    "# Passo 5: Calcular os indicadores\n",
    "faturamento = df['Valor Final'].sum()\n",
    "media_lucro = df['Valor Final'].mean()\n",
    "qtd_produtos = df['Quantidade'].sum()\n",
    "list_lojas = list(set(df['ID Loja']))\n",
    "list_produtos = list(set(df['Produto']))\n",
    "melhor = df.max()\n",
    "pior = df.min()\n",
    "produtos = [(df['Produto'][i], list(df['Produto']).count(list_produtos[i]))\n",
    "            for i in range(len(list_produtos))]\n",
    "lojas = [(df['ID Loja'][i], list(df['ID Loja']).count(list_lojas[i]))\n",
    "         for i in range(len(list_lojas))]\n",
    "mais_vendido = max(produtos, key=lambda p: p[1])\n",
    "menos_vendido = min(produtos, key=lambda p: [1])\n",
    "melhor_loja = max(lojas, key=lambda loja: loja[1])\n",
    "pior_loja = min(lojas, key=lambda loja: loja[1])\n",
    "hora_atual = datetime.now().hour"
   ]
  },
  {
   "cell_type": "code",
   "execution_count": 155,
   "metadata": {},
   "outputs": [],
   "source": [
    "if hora_atual < 12:\n",
    "    cumprimento = 'Bom dia'\n",
    "elif hora_atual < 18:\n",
    "    cumprimento = 'Boa tarde'\n",
    "else:\n",
    "    cumprimento = 'Boa noite'"
   ]
  },
  {
   "cell_type": "markdown",
   "metadata": {},
   "source": [
    "### Vamos agora enviar um e-mail pelo gmail"
   ]
  },
  {
   "cell_type": "code",
   "execution_count": 156,
   "metadata": {},
   "outputs": [],
   "source": [
    "# Passo 5: Entrar no email\n",
    "# voltar ao navegador (clicar na tela)\n",
    "pyautogui.click(826, y=129)\n",
    "# abrir aba\n",
    "pyautogui.hotkey('ctrl', 't')\n",
    "# entrar no gmail\n",
    "while not pyautogui.locateOnScreen('images/gmail.png'):\n",
    "    sleep(0.5)\n",
    "pyautogui.click(x=230, y=81)\n",
    "# escrever e-mail\n",
    "while not pyautogui.locateOnScreen('images/escrever.png'):\n",
    "    sleep(0.5)\n",
    "pyautogui.click(x=73, y=166)\n",
    "\n",
    "# Passo 6: Digitar e enviar o resultado\n",
    "while not pyautogui.locateOnScreen('images/mensagem.png'):\n",
    "    sleep(1)\n",
    "\n",
    "pyautogui.write(DESTINATARIO)\n",
    "pyautogui.press('tab')  # seleciona o email\n",
    "\n",
    "pyautogui.press('tab')  # pula para o campo de assunto\n",
    "pyperclip.copy('Relatório de Vendas')\n",
    "pyautogui.hotkey('ctrl', 'v')  # escreve o assunto\n",
    "pyautogui.press('tab')  # pula para o corpo do email\n",
    "\n",
    "texto = f'''Prezados, {cumprimento}\n",
    "\n",
    "Segue relatório de vendas.\n",
    "Faturamento total: R${faturamento:,.2f}\n",
    "Média de faturamento por venda: R${media_lucro:,.2f}\n",
    "Quantidade de produtos vendidos: {qtd_produtos:,}\n",
    "Quantidade de lojas no momento: {len(list_lojas)}\n",
    "Melhor venda:\n",
    "    Data: {melhor['Data'].day}/{melhor['Data'].month}/{melhor['Data'].year}\n",
    "    ID Loja: {melhor['ID Loja']}\n",
    "    Produto: {melhor['Produto']}\n",
    "    Quantidade: {melhor['Quantidade']:,}\n",
    "    Valor Unitário: {melhor['Valor Unitário']:,.2f}\n",
    "    Valor Final: R${melhor['Valor Final']:,.2f}\n",
    "Pior venda:\n",
    "    Data: {melhor['Data'].day}/{melhor['Data'].month}/{melhor['Data'].year}\n",
    "    ID Loja: {pior['ID Loja']}\n",
    "    Produto: {pior['Produto']}\n",
    "    Quantidade: {pior['Quantidade']:,}\n",
    "    Valor Unitário: {pior['Valor Unitário']:,.2f}\n",
    "    Valor Final: R${pior['Valor Final']:,.2f}\n",
    "Mais vendido:\n",
    "    Nome: {mais_vendido[0]}\n",
    "    Quantidade: {mais_vendido[1]}\n",
    "Menos vendido:\n",
    "    Nome: {menos_vendido[0]}\n",
    "    Quantidade: {menos_vendido[1]}\n",
    "Melhor loja:\n",
    "    ID Loja: {melhor_loja[0]}\n",
    "    Produtos vendidos: {melhor_loja[1]}\n",
    "Pior loja:\n",
    "    ID Loja: {pior_loja[0]}\n",
    "    Produtos vendidos: {pior_loja[1]}\n",
    "\n",
    "Qualquer dúvida estou à disposição.\n",
    "Att.,\n",
    "Felippe do Python'''\n",
    "\n",
    "pyperclip.copy(texto)\n",
    "pyautogui.hotkey('ctrl', 'v')\n",
    "\n",
    "# anexar arquivo\n",
    "pyautogui.click(x=950, y=706)\n",
    "while not pyautogui.locateOnScreen('images/janela.png'):\n",
    "    sleep(0.5)\n",
    "pyperclip.copy(r'C:\\Users\\f4dra\\Downloads\\Vendas - Dez.xlsx')\n",
    "pyautogui.hotkey('ctrl', 'v')\n",
    "pyautogui.press('enter')\n",
    "while not pyautogui.locateOnScreen('images/arquivo_completo.png'):\n",
    "    sleep(1)\n",
    "pyautogui.hotkey('ctrl', 'enter')\n",
    "while not pyautogui.locateOnScreen('images/mensagem_enviada.png'):\n",
    "    sleep(1)\n",
    "pyautogui.click(x=328, y=692)"
   ]
  },
  {
   "cell_type": "code",
   "execution_count": 157,
   "metadata": {},
   "outputs": [
    {
     "name": "stdout",
     "output_type": "stream",
     "text": [
      "Arquivo removido.\n"
     ]
    }
   ],
   "source": [
    "try:\n",
    "    os.remove(r'C:\\Users\\f4dra\\Downloads\\Vendas - Dez.xlsx')\n",
    "    print('Arquivo removido.')\n",
    "except FileNotFoundError:\n",
    "    print('Arquivo não encontrado.')"
   ]
  }
 ],
 "metadata": {
  "kernelspec": {
   "display_name": "Python 3 (ipykernel)",
   "language": "python",
   "name": "python3"
  },
  "language_info": {
   "codemirror_mode": {
    "name": "ipython",
    "version": 3
   },
   "file_extension": ".py",
   "mimetype": "text/x-python",
   "name": "python",
   "nbconvert_exporter": "python",
   "pygments_lexer": "ipython3",
   "version": "3.9.12"
  }
 },
 "nbformat": 4,
 "nbformat_minor": 1
}
